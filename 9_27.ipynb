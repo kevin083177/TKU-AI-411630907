{
  "nbformat": 4,
  "nbformat_minor": 0,
  "metadata": {
    "colab": {
      "provenance": [],
      "collapsed_sections": [],
      "authorship_tag": "ABX9TyPTDmDXYZq8UkdJiLynZ1jF",
      "include_colab_link": true
    },
    "kernelspec": {
      "name": "python3",
      "display_name": "Python 3"
    },
    "language_info": {
      "name": "python"
    }
  },
  "cells": [
    {
      "cell_type": "markdown",
      "metadata": {
        "id": "view-in-github",
        "colab_type": "text"
      },
      "source": [
        "<a href=\"https://colab.research.google.com/github/kevin083177/TKU-AI-411630907/blob/main/9_27.ipynb\" target=\"_parent\"><img src=\"https://colab.research.google.com/assets/colab-badge.svg\" alt=\"Open In Colab\"/></a>"
      ]
    },
    {
      "cell_type": "code",
      "execution_count": null,
      "metadata": {
        "id": "_UKTXMUyhlWx"
      },
      "outputs": [],
      "source": [
        "import matplotlib.pyplot as plt"
      ]
    },
    {
      "cell_type": "code",
      "source": [
        "plt.plot([9,9.2,9.6,7.5,6.7,7], [9.4,9.2,9.2,9.2,7.1,7.4], 'yx')\n",
        "plt.plot([7.2,7.3,7.2,7.3,7.2,7.3,7.3], [10.3,10.5,9.2,10.2,9.7,10.1,10.1], 'gx')\n",
        "plt.plot([6.5,9.0], [7.8,12.5], 'b--')\n",
        "plt.ylabel('H cm')\n",
        "plt.xlabel('W cm')\n",
        "\n",
        "plt.legend(('Orange', 'Lemons'), loc='upper right')\n",
        "plt.show()"
      ],
      "metadata": {
        "colab": {
          "base_uri": "https://localhost:8080/",
          "height": 279
        },
        "id": "mu7iRBRBh1Jb",
        "outputId": "6c6a0df5-cc1a-4741-ab7c-728b1ade1292"
      },
      "execution_count": null,
      "outputs": [
        {
          "output_type": "display_data",
          "data": {
            "text/plain": [
              "<Figure size 432x288 with 1 Axes>"
            ],
            "image/png": "[encoded data removed]"
          },
          "metadata": {
            "needs_background": "light"
          }
        }
      ]
    }
  ]
}